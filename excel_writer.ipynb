import pandas as pd
import xlsxwriter
import pandas.io.formats.excel

# Repair the workbook before sharing
pd.io.formats.excel.ExcelFormatter.header_style = None

# Define the mapping of dataframes to sheet names
dataframes = {
    "sheet_name": df #tie dataframe explicitly to the report 
}

# Create an ExcelWriter object with xlsxwriter engine
with pd.ExcelWriter('export_name', engine='xlsxwriter') as writer:
    # Write each DataFrame to its corresponding sheet
    for sheet_name, df in dataframes.items():
        df.to_excel(writer, sheet_name=sheet_name, index=False)

    # Get the workbook object from writer
    workbook = writer.book
    
    # Define common formats
    header_format = workbook.add_format({'bold': True, 'text_wrap': True, 'align': 'center', 'valign': 'vcenter', 'bg_color': '#D9E1F2', 'border': 1})
    date_format = workbook.add_format({'num_format': 'yyyy-mm-dd'})
    number_format = workbook.add_format({'num_format': '#,##0'})

    # Apply formatting to each worksheet
    for sheet_name, df in dataframes.items():
        worksheet = writer.sheets[sheet_name]
        
        # Get the number of rows and columns
        num_rows, num_cols = df.shape

        # Set column widths for better readability
        worksheet.set_column(0, num_cols - 1, 15)

        # Enable filters on the first row
        worksheet.autofilter(0, 0, num_rows, num_cols - 1)

        # Apply header formatting
        for col_num, value in enumerate(df.columns):
            worksheet.write(0, col_num, value, header_format)

       
print("Excel file successfully created with filters and formatting!")
